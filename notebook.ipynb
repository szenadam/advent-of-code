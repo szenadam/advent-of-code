{
 "cells": [
  {
   "cell_type": "code",
   "execution_count": 4,
   "metadata": {},
   "outputs": [
    {
     "name": "stdout",
     "output_type": "stream",
     "text": [
      "[[], [1], [2], [1]]\n"
     ]
    }
   ],
   "source": [
    "lst = [0,1,0,2,0,1]\n",
    "delim = 0\n",
    "\n",
    "chunks = []\n",
    "\n",
    "temp_lst = []\n",
    "\n",
    "for i in lst:\n",
    "    if i == delim:\n",
    "        chunks.append(temp_lst)\n",
    "        temp_lst = []\n",
    "    else:\n",
    "        temp_lst.append(i)\n",
    "#if temp_lst:\n",
    "chunks.append(temp_lst)\n",
    "\n",
    "print(chunks)"
   ]
  }
 ],
 "metadata": {
  "kernelspec": {
   "display_name": "base",
   "language": "python",
   "name": "python3"
  },
  "language_info": {
   "codemirror_mode": {
    "name": "ipython",
    "version": 3
   },
   "file_extension": ".py",
   "mimetype": "text/x-python",
   "name": "python",
   "nbconvert_exporter": "python",
   "pygments_lexer": "ipython3",
   "version": "3.8.8"
  },
  "orig_nbformat": 4,
  "vscode": {
   "interpreter": {
    "hash": "7a9f02e1c5d01f03eb6dd9a2fb9685df0abd0fe02bf015b46d40e8102c7f013f"
   }
  }
 },
 "nbformat": 4,
 "nbformat_minor": 2
}
